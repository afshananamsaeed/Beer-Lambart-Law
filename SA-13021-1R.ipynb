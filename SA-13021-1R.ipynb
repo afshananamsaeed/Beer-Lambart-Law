{
 "cells": [
  {
   "cell_type": "markdown",
   "metadata": {},
   "source": [
    "# Beer Lambart Law"
   ]
  },
  {
   "cell_type": "code",
   "execution_count": null,
   "metadata": {},
   "outputs": [],
   "source": [
    "import numpy as np\n",
    "import matplotlib as plt"
   ]
  },
  {
   "cell_type": "code",
   "execution_count": null,
   "metadata": {},
   "outputs": [],
   "source": [
    "#Defining the variables\n",
    "\n",
    "ns=8  #No. of hours per day\n",
    "tn=21  #Daily Temperature\n",
    "rn=2.52*pow(10,-5)   #Photosynthetically active radiation\n",
    "n1=1  #Time of appearance of first two leaves\n",
    "n3=24  #Time of appearance of third and fourth leaves\n",
    "n5=40  #Time of appearance of fifth leaf\n",
    "phi=12  #Phyllochron\n",
    "d=3  #Dimensions\n",
    "mu=3.15\n",
    "s=5\n",
    "k=0.7\n",
    "sigma1=0.4593\n",
    "sigma2=0.3991\n",
    "rho1=0.07801\n",
    "rho2=1\n",
    "q0=3.807*pow(10,-5)\n",
    "\n",
    "new_true=np.array([[1.558*pow(10,-3)],[4.531],[5.39]])\n",
    "sigma_true=np.array([[6.069*pow(10,-9),0,0],[0,5.131*pow(10,-2),0],[0,0,7.263*pow(10,-2)]])   #Covariance Matrix\n",
    "tau_true=100\n",
    "sd_true=0.1   #Standard Deviation\n",
    "tau_n   #thermal time (Not mentioned, please assume)\n",
    "tau_v   #Accumulated thermal time of the vth leaf since its emergence (degrees Celcius)- not mentioned, please assume. \n",
    "\n",
    "n_l=16 #total leaves to observe\n",
    "n_i=136 #total observations per leaf\n",
    "i=(1,16) #leaf number\n",
    "v=(1,136) #leaf observation number"
   ]
  },
  {
   "cell_type": "code",
   "execution_count": null,
   "metadata": {},
   "outputs": [],
   "source": [
    "# Defining all the functions\n",
    "x=0.1    #Assumed. You can use different function values\n",
    "\n",
    "def time_for_leaf(i):         #Time of appearnace of 5+ith leaf for i>1\n",
    "    n=n5+i*phi\n",
    "\n",
    "def f_log_N(x):\n",
    "    f_log=1/(x*sd_true*sqrt(2*3.14))*exp(-pow(log(x)-mu,2)/(2*pow(sd_true,2)))\n",
    "    return f_log\n",
    "\n",
    "def f_log_Norm(x):\n",
    "    f_log=1/(x**2*sd_true**2*2*3.14)*exp(-pow(log(x)-mu/sd_true,2))\n",
    "    return f_log\n",
    "\n",
    "def d_vn_Less4(__init__):\n",
    "    d_vn=rho1*f_log_N(x)*(tau_n-tau_v)/f_log_Norm(x)\n",
    "    return d_vn\n",
    "\n",
    "def d_vn_More4(__init__):\n",
    "    d_vn=rho2*f_log_N(x)*(tau_n-tau_v)/f_log_Norm(x)\n",
    "    return d_vn\n",
    "\n",
    "def biomass_of_leaf_diff_func(v,n):\n",
    "    d_wn=0\n",
    "    for w in range(1,v):\n",
    "        if w<=4:\n",
    "            d_wn+=d_vn_Less4()\n",
    "        if w>4:\n",
    "            d_wn+=d_wn_More4()\n",
    "    for i in range(1,v):\n",
    "        if i<=4:\n",
    "            d_qn=(d_vn_Less4/d_wn)*qn[-1]\n",
    "        if i>4:\n",
    "            d_qn=(d_wn_More4/d_wn)*qn[-1]\n"
   ]
  },
  {
   "cell_type": "code",
   "execution_count": null,
   "metadata": {},
   "outputs": [],
   "source": [
    "# Beer Lambart Law\n",
    "\n",
    "vn=[] #No. of leaves of a plant at a step 'n'. Specify a list for total leaves at a every step. \n",
    "qn={}  #A Dictionary of steps as keys and biomass qn as values. \n",
    "observation={}  #Total observations at different steps.(y(n)) \n",
    "\n",
    "for i in range(1,n+1):\n",
    "    y_n=[]\n",
    "    q_vn_list=[1]    #The initial value. Please use whatever value you consider first. \n",
    "    q_v=0 #Biomass of the vth leaf \n",
    "    for v in range (1,vn[i]):\n",
    "        q_vn=q_vn_list[-1]+biomass_of_leaf_diff_func(v,n)     #biomass of each leaf\n",
    "        q_vn_list.append(q_vn)\n",
    "        q_v+=q_vn\n",
    "        a_vn=q_vn/e   #Area\n",
    "        y_n.append(1/a_vn)\n",
    "    observation[i]=y_n\n",
    "\n",
    "    q_n=rn*mu*s*[1-exp(-k/(s*e)*q_v)]\n",
    "    qn[i]=q_n"
   ]
  },
  {
   "cell_type": "code",
   "execution_count": null,
   "metadata": {},
   "outputs": [],
   "source": [
    "#Plot 1. The observation plots for a leaf at different time interval observations  \n",
    "steps=observation.keys()\n",
    "obs=observation.values()\n",
    "plt.line(steps,obs)"
   ]
  },
  {
   "cell_type": "code",
   "execution_count": null,
   "metadata": {},
   "outputs": [],
   "source": [
    "#Plot 2. The biomass of the plant verses steps plots for different steps.\n",
    "step=qn.keys()\n",
    "biomass=qn.values()\n",
    "plt.line(step,biomass)"
   ]
  }
 ],
 "metadata": {
  "kernelspec": {
   "display_name": "Python 3",
   "language": "python",
   "name": "python3"
  },
  "language_info": {
   "codemirror_mode": {
    "name": "ipython",
    "version": 3
   },
   "file_extension": ".py",
   "mimetype": "text/x-python",
   "name": "python",
   "nbconvert_exporter": "python",
   "pygments_lexer": "ipython3",
   "version": "3.8.5"
  }
 },
 "nbformat": 4,
 "nbformat_minor": 4
}
